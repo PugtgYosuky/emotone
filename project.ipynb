{
  "cells": [
    {
      "cell_type": "markdown",
      "metadata": {
        "id": "PbV8AT2TaBEw"
      },
      "source": [
        "# Emotone - Melody generation based on emotion\n",
        "## HCAI project\n",
        "\n",
        "### Author:\n",
        "- Joana Simoes, No. 2019217013\n",
        "\n",
        "### Objective\n",
        "This project aims to create an artificial intelligence system capable of generating melodies that induce certain emotions in people.\n",
        "\n",
        "### References\n",
        "\n",
        "The project was heavily based on the work of Lucas N. Ferreira and Jim Whitehead, their work can be accessed at https://arxiv.org/abs/2103.06125.\n",
        "\n",
        "### Notes:\n",
        "- The files that come with the project contain the project code, this notebook only serves to \"put the pieces together in one place\",  and it is advised to only run the project from this notebook.\n",
        "\n",
        "- The sections should be run sequentially, in case you want to run the whole program (train the system from scratch). Note that this option may take more than 15 hours, depending on the machines. \n",
        "\n",
        "- To save time, checkpoints have been created throughout the notebook, so that each part can be run separately. \n",
        "\n",
        "- The sections 'Imports', 'Variables', should always be run first. \n",
        "\n",
        "- To train the classifier, change the weights of the LSTM (Evolve LSTM) or generate tunes, the \"Variable post-training LSTM\" must be run before them."
      ]
    },
    {
      "cell_type": "code",
      "execution_count": null,
      "metadata": {
        "id": "25rQTWVUz3l8"
      },
      "outputs": [],
      "source": [
        "! pip install tensorflow==2.9.1"
      ]
    },
    {
      "cell_type": "code",
      "execution_count": null,
      "metadata": {
        "id": "ZbKFrtgk1vJN"
      },
      "outputs": [],
      "source": [
        "! pip install music21"
      ]
    },
    {
      "cell_type": "markdown",
      "metadata": {
        "id": "GiaSOceXTUrt"
      },
      "source": [
        "## Imports"
      ]
    },
    {
      "cell_type": "code",
      "execution_count": null,
      "metadata": {
        "id": "UYlD1Z88byBa"
      },
      "outputs": [],
      "source": [
        "import os\n",
        "import json\n",
        "import numpy as np\n",
        "import tensorflow as tf\n",
        "import pandas as pd\n",
        "from sklearn.linear_model import LogisticRegression\n",
        "from sklearn.model_selection import train_test_split\n",
        "import pickle"
      ]
    },
    {
      "cell_type": "code",
      "execution_count": null,
      "metadata": {
        "colab": {
          "base_uri": "https://localhost:8080/"
        },
        "id": "4x-2Iv8XcBo_",
        "outputId": "8353722f-7fb8-4204-adb5-7ae16fb2d2d2"
      },
      "outputs": [
        {
          "name": "stdout",
          "output_type": "stream",
          "text": [
            "Mounted at /content/drive\n"
          ]
        }
      ],
      "source": [
        "from google.colab import drive\n",
        "drive.mount('/content/drive')"
      ]
    },
    {
      "cell_type": "code",
      "execution_count": null,
      "metadata": {
        "id": "cwxEbLnrqqfA"
      },
      "outputs": [],
      "source": [
        "import sys\n",
        "sys.path.insert(0,'/content/drive/MyDrive/emotone')"
      ]
    },
    {
      "cell_type": "code",
      "execution_count": null,
      "metadata": {
        "id": "WEVW9QNEq9a1"
      },
      "outputs": [],
      "source": [
        "import midi_encoder\n",
        "import train_generative\n",
        "import train_classifier\n",
        "import evolve_generative\n",
        "import midi_generator\n",
        "import plot_results"
      ]
    },
    {
      "cell_type": "code",
      "execution_count": null,
      "metadata": {
        "id": "p3ijawcUDrq7"
      },
      "outputs": [],
      "source": [
        "import warnings\n",
        "warnings.filterwarnings(\"ignore\")"
      ]
    },
    {
      "cell_type": "markdown",
      "metadata": {
        "id": "4ky0EP5gaTnw"
      },
      "source": [
        "## Variables"
      ]
    },
    {
      "cell_type": "markdown",
      "metadata": {
        "id": "3yEx7oylNU3C"
      },
      "source": [
        "#### for train"
      ]
    },
    {
      "cell_type": "code",
      "execution_count": null,
      "metadata": {
        "id": "-kpPvrilcNYJ"
      },
      "outputs": [],
      "source": [
        "PROJECT_PATH = os.path.join('drive', 'MyDrive', 'emotone')"
      ]
    },
    {
      "cell_type": "code",
      "execution_count": null,
      "metadata": {
        "id": "nj5Vfh00chPT"
      },
      "outputs": [],
      "source": [
        "DATA_PATH = os.path.join(PROJECT_PATH, 'vgmidi')"
      ]
    },
    {
      "cell_type": "code",
      "execution_count": null,
      "metadata": {
        "id": "ooqr4EKucsA3"
      },
      "outputs": [],
      "source": [
        "SAVE_CHECKPOINTS = os.path.join(PROJECT_PATH, 'trained')"
      ]
    },
    {
      "cell_type": "code",
      "execution_count": null,
      "metadata": {
        "id": "9FHxprU9c3NC"
      },
      "outputs": [],
      "source": [
        "GENERATED_PATH = os.path.join(PROJECT_PATH, 'generated')"
      ]
    },
    {
      "cell_type": "code",
      "execution_count": null,
      "metadata": {
        "id": "G-Ng4GKIa9ya"
      },
      "outputs": [],
      "source": [
        "units = 4096\n",
        "layers = 1\n",
        "epochs = 5\n",
        "batch = 32\n",
        "embed = 64\n",
        "learning_rate = 0.001\n",
        "sequence_len = 256\n",
        "drop = 0.05\n",
        "cellix = -3"
      ]
    },
    {
      "cell_type": "code",
      "execution_count": null,
      "metadata": {
        "id": "CmBHZ58abrrK"
      },
      "outputs": [],
      "source": [
        "unlabelled_train_path = os.path.join(DATA_PATH, 'unlabelled', 'train')\n",
        "unlabelled_test_path = os.path.join(DATA_PATH, 'unlabelled', 'test')"
      ]
    },
    {
      "cell_type": "code",
      "execution_count": null,
      "metadata": {
        "id": "cmIVgUXRHI8o"
      },
      "outputs": [],
      "source": [
        "override_path = ''"
      ]
    },
    {
      "cell_type": "markdown",
      "metadata": {
        "id": "XpZJGwgv54FZ"
      },
      "source": [
        "#### for evolve "
      ]
    },
    {
      "cell_type": "code",
      "execution_count": null,
      "metadata": {
        "id": "P-ie7w3056KX"
      },
      "outputs": [],
      "source": [
        "elitism = 0.2\n",
        "mutation = 0.2\n",
        "population_size = 20"
      ]
    },
    {
      "cell_type": "markdown",
      "metadata": {
        "id": "8WGXDDlRaQIK"
      },
      "source": [
        "## Train generative LSTM"
      ]
    },
    {
      "cell_type": "code",
      "execution_count": null,
      "metadata": {
        "id": "YDH8l3-Hrl-l"
      },
      "outputs": [],
      "source": [
        "train_text, train_vocab = midi_encoder.load(unlabelled_train_path)\n",
        "test_text, test_vocab = midi_encoder.load(unlabelled_test_path)"
      ]
    },
    {
      "cell_type": "code",
      "execution_count": null,
      "metadata": {
        "id": "NWulzJE0r4VQ"
      },
      "outputs": [],
      "source": [
        "# build vocabulary\n",
        "vocab_dict, vocab_size = train_generative.build_vocabulary(train_vocab, test_vocab, SAVE_CHECKPOINTS)"
      ]
    },
    {
      "cell_type": "code",
      "execution_count": null,
      "metadata": {
        "id": "v-D_rSXmsPKz"
      },
      "outputs": [],
      "source": [
        "# build dataset from encoded midis\n",
        "train_dataset = train_generative.build_dataset(train_text, vocab_dict, sequence_len, batch)\n",
        "test_dataset = train_generative.build_dataset(test_text, vocab_dict, sequence_len, batch)"
      ]
    },
    {
      "cell_type": "code",
      "execution_count": null,
      "metadata": {
        "id": "P7ss0nyuuDsW"
      },
      "outputs": [],
      "source": [
        "# build generative model\n",
        "generative_model = train_generative.build_generative_model(vocab_size, embed, units, layers, batch, drop)"
      ]
    },
    {
      "cell_type": "code",
      "execution_count": null,
      "metadata": {
        "colab": {
          "base_uri": "https://localhost:8080/"
        },
        "id": "Juy4tNQRuk4a",
        "outputId": "1713229b-ff99-47e1-ffcf-7264e7c91b34"
      },
      "outputs": [
        {
          "name": "stdout",
          "output_type": "stream",
          "text": [
            "Epoch 1/5\n",
            "2332/2332 [==============================] - 2916s 1s/step - loss: 3.2631 - val_loss: 3.0546\n",
            "Epoch 2/5\n",
            "2332/2332 [==============================] - 2899s 1s/step - loss: 2.8322 - val_loss: 2.8492\n",
            "Epoch 3/5\n",
            "2332/2332 [==============================] - 2911s 1s/step - loss: 2.7174 - val_loss: 2.7404\n",
            "Epoch 4/5\n",
            " 976/2332 [===========>..................] - ETA: 27:01 - loss: 2.6538"
          ]
        }
      ],
      "source": [
        "history = train_generative.train_generative_model(generative_model, train_dataset, test_dataset, epochs, learning_rate, SAVE_CHECKPOINTS)"
      ]
    },
    {
      "cell_type": "code",
      "execution_count": null,
      "metadata": {
        "id": "_Rvk7ZMdvw6Q"
      },
      "outputs": [],
      "source": [
        "print(history)"
      ]
    },
    {
      "cell_type": "code",
      "execution_count": null,
      "metadata": {
        "id": "GkWzYZ2apztT"
      },
      "outputs": [],
      "source": [
        "# Persist sentiment classifier\n",
        "with open(os.path.join(SAVE_CHECKPOINTS, 'generative_model.p'), \"wb\") as f:\n",
        "    pickle.dump(generative_model, f)"
      ]
    },
    {
      "cell_type": "markdown",
      "metadata": {
        "id": "I9wAYV0FMnyn"
      },
      "source": [
        "## Variables pos-training LSTM"
      ]
    },
    {
      "cell_type": "code",
      "execution_count": null,
      "metadata": {
        "id": "v2gw2C7mMrSm"
      },
      "outputs": [],
      "source": [
        "vocabulary_path = os.path.join(SAVE_CHECKPOINTS, 'vocabulary_dict.json')\n",
        "clf_checkpoint = os.path.join(SAVE_CHECKPOINTS, 'sentiment_classifier.p') "
      ]
    },
    {
      "cell_type": "code",
      "execution_count": null,
      "metadata": {
        "id": "vA1GHO7iMtAf"
      },
      "outputs": [],
      "source": [
        "midis_path = os.path.join(DATA_PATH, 'labelled', 'midi')\n",
        "data_path= os.path.join(DATA_PATH, 'labelled', 'dataset', 'sentiment_labelled.csv')\n",
        "test_percentage = 0.2"
      ]
    },
    {
      "cell_type": "code",
      "execution_count": null,
      "metadata": {
        "id": "MODU10hvMvng"
      },
      "outputs": [],
      "source": [
        "# load vocabulary\n",
        "with open(vocabulary_path) as input_file:\n",
        "  vocabulary = json.load(input_file)\n",
        "\n",
        "# vocabulary size\n",
        "vocabulary_size = len(vocabulary)\n",
        "\n",
        "# create indexes vocabulary\n",
        "indexes_vocabulary = {index: char for char, index in vocabulary.items()}"
      ]
    },
    {
      "cell_type": "markdown",
      "metadata": {
        "id": "fwaevqY78EIN"
      },
      "source": [
        "## Generate midi"
      ]
    },
    {
      "cell_type": "code",
      "execution_count": null,
      "metadata": {
        "id": "7OXSI-nB8RGY"
      },
      "outputs": [],
      "source": [
        "sequence_init = '.'"
      ]
    },
    {
      "cell_type": "code",
      "execution_count": null,
      "metadata": {
        "id": "-N2QBR2D8nUS"
      },
      "outputs": [],
      "source": [
        "filename = 'test_generated_classif.mid'"
      ]
    },
    {
      "cell_type": "code",
      "execution_count": null,
      "metadata": {
        "colab": {
          "base_uri": "https://localhost:8080/"
        },
        "id": "Lq8yIfhE8S0P",
        "outputId": "d774d620-3550-4a4f-f48a-d8ec1d7eb3d7"
      },
      "outputs": [
        {
          "name": "stdout",
          "output_type": "stream",
          "text": [
            "Override file does not exist\n"
          ]
        }
      ],
      "source": [
        "override = {}\n",
        "try:\n",
        "    with open(override_path, 'r') as over_file:\n",
        "        override = json.load(over_file)\n",
        "except FileNotFoundError:\n",
        "    print('Override file does not exist')"
      ]
    },
    {
      "cell_type": "code",
      "execution_count": null,
      "metadata": {
        "id": "SvXiBYPG8YdP"
      },
      "outputs": [],
      "source": [
        "# rebuild generative model from checkpoint\n",
        "generative_model = train_generative.build_generative_model(vocabulary_size, embed, units, layers, 1, drop)\n",
        "generative_model.load_weights(tf.train.latest_checkpoint(SAVE_CHECKPOINTS))\n",
        "generative_model.build(tf.TensorShape([1, None]))"
      ]
    },
    {
      "cell_type": "code",
      "execution_count": null,
      "metadata": {
        "colab": {
          "base_uri": "https://localhost:8080/"
        },
        "id": "HufeSVGU5aTL",
        "outputId": "24e6778c-4444-4dcd-d157-ebbbd6f1272c"
      },
      "outputs": [
        {
          "data": {
            "text/plain": [
              "<keras.layers.rnn.lstm.LSTM at 0x7f01f9e592e0>"
            ]
          },
          "execution_count": 29,
          "metadata": {},
          "output_type": "execute_result"
        }
      ],
      "source": [
        "generative_model.get_layer(index=cellix)"
      ]
    },
    {
      "cell_type": "code",
      "execution_count": null,
      "metadata": {
        "colab": {
          "base_uri": "https://localhost:8080/",
          "height": 533
        },
        "id": "nMxKvToGtjox",
        "outputId": "dbb3ad54-59c0-471c-c431-e68567c60fae"
      },
      "outputs": [
        {
          "data": {
            "image/png": "[encoded data removed]",
            "text/plain": [
              "<IPython.core.display.Image object>"
            ]
          },
          "execution_count": 30,
          "metadata": {},
          "output_type": "execute_result"
        }
      ],
      "source": [
        "tf.keras.utils.plot_model(\n",
        "    generative_model,\n",
        "    show_shapes=True,\n",
        "    show_layer_names=True,\n",
        "    rankdir='TB',\n",
        "    expand_nested=False,\n",
        "    dpi=96,\n",
        ")"
      ]
    },
    {
      "cell_type": "code",
      "execution_count": null,
      "metadata": {
        "colab": {
          "base_uri": "https://localhost:8080/"
        },
        "id": "_JQuBYik8iJK",
        "outputId": "b074f475-fc9d-4c9e-d363-06f45195f777"
      },
      "outputs": [
        {
          "name": "stdout",
          "output_type": "stream",
          "text": [
            "Can't process char .\n"
          ]
        }
      ],
      "source": [
        "# generate midi as text\n",
        "midi_text = midi_generator.generate_midi(generative_model, vocabulary, indexes_vocabulary, sequence_init, sequence_len, layer_idx=cellix, override=override)"
      ]
    },
    {
      "cell_type": "code",
      "execution_count": null,
      "metadata": {
        "id": "WcaudK-483df"
      },
      "outputs": [],
      "source": [
        "# write midi\n",
        "midi_encoder.write(midi_text, os.path.join(GENERATED_PATH, filename))"
      ]
    },
    {
      "cell_type": "markdown",
      "metadata": {
        "id": "dZs3_Ic4aW3N"
      },
      "source": [
        "## Train classifier"
      ]
    },
    {
      "cell_type": "code",
      "execution_count": null,
      "metadata": {
        "id": "LxtnKjyUrw9y"
      },
      "outputs": [],
      "source": [
        "# rebuild generative model from checkpoint\n",
        "generative_model = train_generative.build_generative_model(vocabulary_size, embed, units, layers, 1, drop)\n",
        "generative_model.load_weights(tf.train.latest_checkpoint(SAVE_CHECKPOINTS))\n",
        "generative_model.build(tf.TensorShape([1, None]))"
      ]
    },
    {
      "cell_type": "code",
      "execution_count": null,
      "metadata": {
        "id": "-L82NQzL1Vhy"
      },
      "outputs": [],
      "source": [
        "#build datasets\n",
        "X, y = train_classifier.build_dataset(midis_path, data_path, generative_model, vocabulary, cellix)\n",
        "\n",
        "X.tofile(os.path.join(DATA_PATH, 'classifier_X.csv'), sep = ',')\n",
        "y.tofile(os.path.join(DATA_PATH, 'classifier_y.csv'), sep = ',')"
      ]
    },
    {
      "cell_type": "code",
      "execution_count": null,
      "metadata": {
        "id": "lUAEWoKFgxvc"
      },
      "outputs": [],
      "source": [
        "data_X = np.genfromtxt(os.path.join(DATA_PATH, 'classifier_X.csv'))\n",
        "data_y = np.genfromtxt(os.path.join(DATA_PATH, 'classifier_y.csv'))"
      ]
    },
    {
      "cell_type": "code",
      "execution_count": null,
      "metadata": {
        "id": "3GBz72iMgrhN"
      },
      "outputs": [],
      "source": [
        "x_train, x_test, y_train, y_test = train_test_split(data_X, data_y, test_size=0.2, random_state=42, shuffle=True)\n",
        "\n",
        "train_dataset = (x_train, y_train)\n",
        "test_dataset = (x_test, y_test)"
      ]
    },
    {
      "cell_type": "code",
      "execution_count": null,
      "metadata": {
        "id": "hPKUJPWWaUzG"
      },
      "outputs": [],
      "source": [
        "from sklearn.metrics import balanced_accuracy_score"
      ]
    },
    {
      "cell_type": "code",
      "execution_count": null,
      "metadata": {
        "id": "AblxmOE92ehU"
      },
      "outputs": [],
      "source": [
        "# train classifier\n",
        "sentiment_neurons, score = train_classifier.train_classifier_model(train_dataset, test_dataset, clf_checkpoint)"
      ]
    },
    {
      "cell_type": "code",
      "execution_count": null,
      "metadata": {
        "id": "ydPEyPwh2p0P"
      },
      "outputs": [],
      "source": [
        "print(f'Total neurons used: {len(sentiment_neurons)}')\n",
        "print('Sentiment neurons:')\n",
        "print(sentiment_neurons)\n",
        "print(f'Model Accuracy: {score}')"
      ]
    },
    {
      "cell_type": "markdown",
      "metadata": {
        "id": "WvR6IjqTacu6"
      },
      "source": [
        "## Evolve LSTM"
      ]
    },
    {
      "cell_type": "code",
      "execution_count": null,
      "metadata": {
        "id": "WcBUj9bo7hDM"
      },
      "outputs": [],
      "source": [
        "# save dictionary\n",
        "sentiment_class = {1: 'joy', 2: 'sad', 3: 'relaxed', 4: 'distress'}\n",
        "# load generative model\n",
        "generative_model = train_generative.build_generative_model(vocabulary_size, embed, units, layers, batch_size=1)\n",
        "generative_model.load_weights(tf.train.latest_checkpoint(SAVE_CHECKPOINTS))\n",
        "generative_model.build(tf.TensorShape([1, None]))\n",
        "# load classifier model\n",
        "with open(clf_checkpoint, 'rb') as file:\n",
        "    classifier_model = pickle.load(file)"
      ]
    },
    {
      "cell_type": "code",
      "execution_count": null,
      "metadata": {
        "id": "nAwsRjjd7pNq"
      },
      "outputs": [],
      "source": [
        "for sentiment in range(1, 4+1):\n",
        "\n",
        "  print('SENTIMENT: ', [sentiment_class[sentiment]])\n",
        "\n",
        "  sentiment_neuron_indexes = train_classifier.get_activated_neurons(classifier_model)\n",
        "  genome_size = len(sentiment_neuron_indexes)\n",
        "\n",
        "  # evolve(population_size, genome_size, generative_model, classifier_model, vocabulary, indexes_vocabulary,\n",
        "  #            layer_index, sentiment, mutation_prob, elitism_prob, epochs):\n",
        "  population, fitness = evolve_generative.evolve(population_size, genome_size, generative_model, classifier_model, vocabulary,\n",
        "                                indexes_vocabulary, cellix, sentiment, mutation, elitism, epochs)\n",
        "\n",
        "  # best individual\n",
        "  best_index = np.argmax(fitness)\n",
        "  best_individual = population[best_index]\n",
        "\n",
        "  # use the best individual to create a dictionary\n",
        "  neurons = {}\n",
        "  for i, index in enumerate(sentiment_neuron_indexes):\n",
        "      neurons[str(index)] = best_individual[i]\n",
        "  print('Neurons: \\n:', neurons)\n",
        "\n",
        "  save_path = os.path.join(SAVE_CHECKPOINTS, f'neurons_{sentiment_class[sentiment]}.json')\n",
        "  with open(save_path, 'w') as file:\n",
        "      json.dump(neurons, file)"
      ]
    },
    {
      "cell_type": "markdown",
      "metadata": {
        "id": "fjA9jvznakFU"
      },
      "source": [
        "## Generate pieces (joy, distress, sad, relaxed)"
      ]
    },
    {
      "cell_type": "code",
      "execution_count": null,
      "metadata": {
        "id": "7pQAEoq1Uz0h"
      },
      "outputs": [],
      "source": [
        "# save dictionary\n",
        "sentiment_class = {1: 'joy' , 2: 'sad', 3: 'relaxed', 4: 'distress'}"
      ]
    },
    {
      "cell_type": "code",
      "execution_count": null,
      "metadata": {
        "id": "IpDrqB_xqmzV"
      },
      "outputs": [],
      "source": [
        "sequence_init = '.'"
      ]
    },
    {
      "cell_type": "code",
      "execution_count": null,
      "metadata": {
        "id": "-bvdQuvMqmzW"
      },
      "outputs": [],
      "source": [
        "number_musics = 5"
      ]
    },
    {
      "cell_type": "code",
      "execution_count": null,
      "metadata": {
        "id": "UejXhVHAyEOp"
      },
      "outputs": [],
      "source": [
        "# rebuild generative model from checkpoint\n",
        "generative_model = train_generative.build_generative_model(vocabulary_size, embed, units, layers, 1, drop)\n",
        "generative_model.load_weights(tf.train.latest_checkpoint(SAVE_CHECKPOINTS))\n",
        "generative_model.build(tf.TensorShape([1, None]))"
      ]
    },
    {
      "cell_type": "code",
      "execution_count": null,
      "metadata": {
        "id": "5xtQ1QBh1Puo"
      },
      "outputs": [],
      "source": [
        "# load classifier model\n",
        "with open(clf_checkpoint, 'rb') as file:\n",
        "    classifier_model = pickle.load(file)"
      ]
    },
    {
      "cell_type": "code",
      "execution_count": null,
      "metadata": {
        "id": "o3STzqt11T8O"
      },
      "outputs": [],
      "source": [
        "confusion_matrix = pd.DataFrame(data=np.zeros((4, 4)),index=[1, 2, 3, 4], columns=[1, 2, 3, 4])"
      ]
    },
    {
      "cell_type": "code",
      "execution_count": null,
      "metadata": {
        "id": "_jsP9Yg2jS8A"
      },
      "outputs": [],
      "source": [
        "musics = []\n",
        "predictions = []\n",
        "original_emotions = []"
      ]
    },
    {
      "cell_type": "code",
      "execution_count": null,
      "metadata": {
        "colab": {
          "background_save": true
        },
        "id": "4hjOhFCKq3e0"
      },
      "outputs": [],
      "source": [
        "count = 0\n",
        "for emotion_index, emotion in reversed(sentiment_class.items()):\n",
        "  override_path = os.path.join(SAVE_CHECKPOINTS, f'neurons_{emotion}.json')\n",
        "  try:\n",
        "    with open(override_path, 'r') as over_file:\n",
        "        override = json.load(over_file)\n",
        "  except FileNotFoundError:\n",
        "      print('Override file does not exist')\n",
        "  for i in range(1, number_musics+1):\n",
        "    music_file = f'music_{count}.mid'\n",
        "    count += 1\n",
        "    # generate midi as text\n",
        "    midi_text = midi_generator.generate_midi(generative_model, vocabulary, indexes_vocabulary, sequence_init, sequence_len, override=override)\n",
        "\n",
        "    # write midi\n",
        "    midi_encoder.write(midi_text, os.path.join(GENERATED_PATH,music_file))\n",
        "\n",
        "    # classify music\n",
        "    midi_ind = train_classifier.encode_sentence(generative_model, midi_text, vocabulary, cellix)\n",
        "    pred = classifier_model.predict([midi_ind])\n",
        "    confusion_matrix[pred[0]][emotion_index] = confusion_matrix[pred[0]][emotion_index] + 1\n",
        "    musics.append(music_file)\n",
        "    predictions.append(pred[0])\n",
        "    original_emotions.append(emotion_index)"
      ]
    },
    {
      "cell_type": "code",
      "execution_count": null,
      "metadata": {
        "colab": {
          "background_save": true
        },
        "id": "SktkLJtk9TXa"
      },
      "outputs": [],
      "source": [
        "confusion_matrix.to_csv(os.path.join(GENERATED_PATH, 'confusion_matrix.csv'), index=False)"
      ]
    },
    {
      "cell_type": "code",
      "execution_count": null,
      "metadata": {
        "colab": {
          "background_save": true
        },
        "id": "M2vSh8uRejeY"
      },
      "outputs": [],
      "source": [
        "confusion_matrix"
      ]
    },
    {
      "cell_type": "code",
      "execution_count": null,
      "metadata": {
        "colab": {
          "background_save": true
        },
        "id": "1dIIgTtoltdf"
      },
      "outputs": [],
      "source": [
        "music_classification = pd.DataFrame(columns=['music', 'given_emotion','prediction'])"
      ]
    },
    {
      "cell_type": "code",
      "execution_count": null,
      "metadata": {
        "colab": {
          "background_save": true
        },
        "id": "d6wxAt8Snk7q"
      },
      "outputs": [],
      "source": [
        "music_classification.music = musics\n",
        "music_classification.given_emotion = original_emotions\n",
        "music_classification.prediction = predictions"
      ]
    },
    {
      "cell_type": "code",
      "execution_count": null,
      "metadata": {
        "colab": {
          "background_save": true
        },
        "id": "W5h0wM0Vn8TZ"
      },
      "outputs": [],
      "source": [
        "music_classification"
      ]
    },
    {
      "cell_type": "code",
      "execution_count": null,
      "metadata": {
        "id": "0lfm10MsfMgZ"
      },
      "outputs": [],
      "source": [
        "music_classification.to_csv(os.path.join(GENERATED_PATH, 'music_classification.csv'), index=False)"
      ]
    },
    {
      "cell_type": "markdown",
      "metadata": {
        "id": "CIGCYmsAynu8"
      },
      "source": [
        "## Generate melodies with emotion"
      ]
    },
    {
      "cell_type": "code",
      "execution_count": null,
      "metadata": {
        "id": "nja0Ldpvynu9"
      },
      "outputs": [],
      "source": [
        "sequence_init = '.' # TODO: if you want, change the initial sequence (notes of the music)\n",
        "sequence_len = 256 # TODO: if you want, change the number of prediction the system should made"
      ]
    },
    {
      "cell_type": "code",
      "execution_count": null,
      "metadata": {
        "id": "bPi4xdtny0BA"
      },
      "outputs": [],
      "source": [
        "# save dictionary\n",
        "sentiment_class = {1: 'joy' , 2: 'sad', 3: 'relaxed', 4: 'distress'}"
      ]
    },
    {
      "cell_type": "code",
      "execution_count": null,
      "metadata": {
        "id": "vu-ZWuOuysBH"
      },
      "outputs": [],
      "source": [
        "emotion = 2 # TODO: select emotion index (1, 2, 3 or 4) or None to use the default LSTM prediction"
      ]
    },
    {
      "cell_type": "code",
      "execution_count": null,
      "metadata": {
        "id": "3fvaNBhOy4vG"
      },
      "outputs": [],
      "source": [
        "music_name = 'generated_music' # TODO: select music name\n",
        "filename = f'{music_name}.mid'"
      ]
    },
    {
      "cell_type": "code",
      "execution_count": null,
      "metadata": {
        "colab": {
          "base_uri": "https://localhost:8080/"
        },
        "id": "0oLjNFS6ynu9",
        "outputId": "c5f494f3-1902-459c-e232-2a0cfccbf07d"
      },
      "outputs": [
        {
          "name": "stdout",
          "output_type": "stream",
          "text": [
            "Override file does not exist\n"
          ]
        }
      ],
      "source": [
        "override = {}\n",
        "try:\n",
        "    if emotion is not None:\n",
        "      override_path = os.path.join(SAVE_CHECKPOINTS, f'neurons_{sentiment_class[emotion]}.json')\n",
        "    else:\n",
        "      override_path = ''\n",
        "    with open(override_path, 'r') as over_file:\n",
        "        override = json.load(over_file)\n",
        "except FileNotFoundError:\n",
        "    print('Override file does not exist')"
      ]
    },
    {
      "cell_type": "code",
      "execution_count": null,
      "metadata": {
        "id": "nHz8Pxecynu-"
      },
      "outputs": [],
      "source": [
        "# rebuild generative model from checkpoint\n",
        "generative_model = train_generative.build_generative_model(vocabulary_size, embed, units, layers, 1, drop)\n",
        "generative_model.load_weights(tf.train.latest_checkpoint(SAVE_CHECKPOINTS))\n",
        "generative_model.build(tf.TensorShape([1, None]))"
      ]
    },
    {
      "cell_type": "code",
      "execution_count": null,
      "metadata": {
        "colab": {
          "base_uri": "https://localhost:8080/"
        },
        "id": "vS77aqd-ynu-",
        "outputId": "a9a64aea-9623-4dff-e611-e61be4c3296d"
      },
      "outputs": [
        {
          "data": {
            "text/plain": [
              "<keras.layers.rnn.lstm.LSTM at 0x7fdb0d9382b0>"
            ]
          },
          "execution_count": 27,
          "metadata": {},
          "output_type": "execute_result"
        }
      ],
      "source": [
        "generative_model.get_layer(index=cellix)"
      ]
    },
    {
      "cell_type": "code",
      "execution_count": null,
      "metadata": {
        "colab": {
          "base_uri": "https://localhost:8080/"
        },
        "id": "yADbQP-7ynu-",
        "outputId": "7c049d84-4a92-4237-a9b7-936f7bc10a95"
      },
      "outputs": [
        {
          "name": "stdout",
          "output_type": "stream",
          "text": [
            "Can't process char .\n"
          ]
        }
      ],
      "source": [
        "# generate midi as text\n",
        "midi_text = midi_generator.generate_midi(generative_model, vocabulary, indexes_vocabulary, sequence_init, sequence_len, layer_idx=cellix, override=override)"
      ]
    },
    {
      "cell_type": "code",
      "execution_count": null,
      "metadata": {
        "id": "HKr7qniWynu_"
      },
      "outputs": [],
      "source": [
        "# write midi\n",
        "filepath = os.path.join(GENERATED_PATH, filename)\n",
        "midi_encoder.write(midi_text, filepath)"
      ]
    }
  ],
  "metadata": {
    "accelerator": "GPU",
    "colab": {
      "collapsed_sections": [
        "GiaSOceXTUrt",
        "3yEx7oylNU3C",
        "XpZJGwgv54FZ",
        "8WGXDDlRaQIK",
        "I9wAYV0FMnyn",
        "fwaevqY78EIN",
        "dZs3_Ic4aW3N",
        "WvR6IjqTacu6",
        "fjA9jvznakFU"
      ],
      "provenance": []
    },
    "gpuClass": "standard",
    "kernelspec": {
      "display_name": "hcai",
      "language": "python",
      "name": "python3"
    },
    "language_info": {
      "codemirror_mode": {
        "name": "ipython",
        "version": 3
      },
      "file_extension": ".py",
      "mimetype": "text/x-python",
      "name": "python",
      "nbconvert_exporter": "python",
      "pygments_lexer": "ipython3",
      "version": "3.10.4"
    },
    "vscode": {
      "interpreter": {
        "hash": "57acc33659ea7b32e4b212a1657291a66887666389122a37ee869a914addb1b5"
      }
    }
  },
  "nbformat": 4,
  "nbformat_minor": 0
}
