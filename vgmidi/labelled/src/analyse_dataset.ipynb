{
 "cells": [
  {
   "cell_type": "code",
   "execution_count": 1,
   "metadata": {},
   "outputs": [],
   "source": [
    "import pandas as pd\n",
    "import numpy as np\n",
    "import json\n",
    "import os"
   ]
  },
  {
   "cell_type": "markdown",
   "metadata": {},
   "source": [
    "Foram removidas alguns valores aleatórios do labelled.json por conterem erros ao aceder-lhes - certas linhas tinham mais valores do que deviam"
   ]
  },
  {
   "cell_type": "code",
   "execution_count": 2,
   "metadata": {},
   "outputs": [],
   "source": [
    "import parse"
   ]
  },
  {
   "cell_type": "code",
   "execution_count": 3,
   "metadata": {},
   "outputs": [],
   "source": [
    "annotations_path = os.path.join('../annotations')\n",
    "json_data_path = os.path.join('results', 'labelled.json')\n",
    "data_path = os.path.join('results', 'labelled.csv')"
   ]
  },
  {
   "cell_type": "code",
   "execution_count": 4,
   "metadata": {},
   "outputs": [],
   "source": [
    "# parse.parse_annotation(annotations_path, json_data_path)"
   ]
  },
  {
   "cell_type": "code",
   "execution_count": 5,
   "metadata": {},
   "outputs": [],
   "source": [
    "def get_data_from_json():\n",
    "    with open(json_data_path, 'r') as input:\n",
    "        data = json.load(input)\n",
    "\n",
    "    columns = ['piece', 'name', 'midi', 'measures', 'duration', 'arousal', 'valence']\n",
    "    df = pd.DataFrame(columns=columns)\n",
    "\n",
    "    for piece in data.keys():\n",
    "        name = data[piece]['name']\n",
    "        midi = data[piece]['midi']\n",
    "        measures = data[piece]['measures']\n",
    "        duration = data[piece]['duration']\n",
    "        arousal = np.array(data[piece]['arousal'], dtype=float).mean()\n",
    "        valence = np.array(data[piece]['valence'], dtype=float).mean()\n",
    "        series = pd.Series([piece, name, midi, measures, duration, arousal, valence], index=df.columns)\n",
    "        df = pd.concat([df, series.to_frame().T], ignore_index=True)\n",
    "    df.duration = df.duration.astype('int64')\n",
    "    df.measures = df.measures.astype('int64')\n",
    "    df[\"arousal\"] = pd.to_numeric(df[\"arousal\"], downcast=\"float\")\n",
    "    df[\"valence\"] = pd.to_numeric(df[\"valence\"], downcast=\"float\")\n",
    "    df.to_csv(data_path, index=False)\n",
    "    return df\n"
   ]
  },
  {
   "cell_type": "code",
   "execution_count": 6,
   "metadata": {},
   "outputs": [],
   "source": [
    "def get_data():\n",
    "    if os.path.exists(data_path):\n",
    "        return pd.read_csv(data_path)\n",
    "    else:\n",
    "        return get_data_from_json()"
   ]
  },
  {
   "cell_type": "code",
   "execution_count": 10,
   "metadata": {},
   "outputs": [],
   "source": [
    "data = get_data()"
   ]
  },
  {
   "cell_type": "code",
   "execution_count": 11,
   "metadata": {},
   "outputs": [
    {
     "data": {
      "text/html": [
       "<div>\n",
       "<style scoped>\n",
       "    .dataframe tbody tr th:only-of-type {\n",
       "        vertical-align: middle;\n",
       "    }\n",
       "\n",
       "    .dataframe tbody tr th {\n",
       "        vertical-align: top;\n",
       "    }\n",
       "\n",
       "    .dataframe thead th {\n",
       "        text-align: right;\n",
       "    }\n",
       "</style>\n",
       "<table border=\"1\" class=\"dataframe\">\n",
       "  <thead>\n",
       "    <tr style=\"text-align: right;\">\n",
       "      <th></th>\n",
       "      <th>piece</th>\n",
       "      <th>name</th>\n",
       "      <th>midi</th>\n",
       "      <th>measures</th>\n",
       "      <th>duration</th>\n",
       "      <th>arousal</th>\n",
       "      <th>valence</th>\n",
       "    </tr>\n",
       "  </thead>\n",
       "  <tbody>\n",
       "    <tr>\n",
       "      <th>0</th>\n",
       "      <td>piece_0</td>\n",
       "      <td>Lurking In The Darkness</td>\n",
       "      <td>Final Fantasy_PS1_Final Fantasy VII_Lurking In...</td>\n",
       "      <td>32</td>\n",
       "      <td>63</td>\n",
       "      <td>-0.032802</td>\n",
       "      <td>-0.203875</td>\n",
       "    </tr>\n",
       "    <tr>\n",
       "      <th>1</th>\n",
       "      <td>piece_1</td>\n",
       "      <td>Continue?</td>\n",
       "      <td>Final Fantasy_PS1_Final Fantasy VII_Continue.mid</td>\n",
       "      <td>25</td>\n",
       "      <td>74</td>\n",
       "      <td>-0.207000</td>\n",
       "      <td>0.151760</td>\n",
       "    </tr>\n",
       "    <tr>\n",
       "      <th>2</th>\n",
       "      <td>piece_2</td>\n",
       "      <td>Oppressed People</td>\n",
       "      <td>Final Fantasy_PS1_Final Fantasy VII_Oppressed ...</td>\n",
       "      <td>40</td>\n",
       "      <td>70</td>\n",
       "      <td>0.058008</td>\n",
       "      <td>-0.138137</td>\n",
       "    </tr>\n",
       "    <tr>\n",
       "      <th>3</th>\n",
       "      <td>piece_3</td>\n",
       "      <td>Deku Palace</td>\n",
       "      <td>The Legend of Zelda_N64_The Legend of Zelda Ma...</td>\n",
       "      <td>60</td>\n",
       "      <td>131</td>\n",
       "      <td>0.189081</td>\n",
       "      <td>0.446306</td>\n",
       "    </tr>\n",
       "    <tr>\n",
       "      <th>4</th>\n",
       "      <td>piece_4</td>\n",
       "      <td>Holding My Thoughts in My Heart</td>\n",
       "      <td>Final Fantasy_PS1_Final Fantasy VII_Holding My...</td>\n",
       "      <td>34</td>\n",
       "      <td>116</td>\n",
       "      <td>-0.211324</td>\n",
       "      <td>0.240137</td>\n",
       "    </tr>\n",
       "    <tr>\n",
       "      <th>...</th>\n",
       "      <td>...</td>\n",
       "      <td>...</td>\n",
       "      <td>...</td>\n",
       "      <td>...</td>\n",
       "      <td>...</td>\n",
       "      <td>...</td>\n",
       "      <td>...</td>\n",
       "    </tr>\n",
       "    <tr>\n",
       "      <th>195</th>\n",
       "      <td>piece_195</td>\n",
       "      <td>Maguss Theme</td>\n",
       "      <td>Chrono_SNES_Chrono Trigger_Maguss Theme.mid</td>\n",
       "      <td>71</td>\n",
       "      <td>149</td>\n",
       "      <td>0.147208</td>\n",
       "      <td>-0.019774</td>\n",
       "    </tr>\n",
       "    <tr>\n",
       "      <th>196</th>\n",
       "      <td>piece_196</td>\n",
       "      <td>Zeppelin</td>\n",
       "      <td>Indiana Jones_PC_Indiana Jones and the Last Cr...</td>\n",
       "      <td>35</td>\n",
       "      <td>69</td>\n",
       "      <td>0.097327</td>\n",
       "      <td>0.300337</td>\n",
       "    </tr>\n",
       "    <tr>\n",
       "      <th>197</th>\n",
       "      <td>piece_197</td>\n",
       "      <td>JENOVA</td>\n",
       "      <td>Final Fantasy_PS1_Final Fantasy VII_JENOVA.mid</td>\n",
       "      <td>100</td>\n",
       "      <td>133</td>\n",
       "      <td>0.376296</td>\n",
       "      <td>0.012214</td>\n",
       "    </tr>\n",
       "    <tr>\n",
       "      <th>198</th>\n",
       "      <td>piece_198</td>\n",
       "      <td>Isle O Hags Cauldron Keep</td>\n",
       "      <td>Banjo-Kazooie_N64_Banjo-Tooie_Isle O Hags Caul...</td>\n",
       "      <td>62</td>\n",
       "      <td>123</td>\n",
       "      <td>-0.012431</td>\n",
       "      <td>-0.094902</td>\n",
       "    </tr>\n",
       "    <tr>\n",
       "      <th>199</th>\n",
       "      <td>piece_199</td>\n",
       "      <td>One Winged Angel</td>\n",
       "      <td>Final Fantasy_PS1_Final Fantasy VII_One Winged...</td>\n",
       "      <td>123</td>\n",
       "      <td>238</td>\n",
       "      <td>0.342840</td>\n",
       "      <td>-0.205265</td>\n",
       "    </tr>\n",
       "  </tbody>\n",
       "</table>\n",
       "<p>200 rows × 7 columns</p>\n",
       "</div>"
      ],
      "text/plain": [
       "         piece                             name  \\\n",
       "0      piece_0          Lurking In The Darkness   \n",
       "1      piece_1                        Continue?   \n",
       "2      piece_2                 Oppressed People   \n",
       "3      piece_3                      Deku Palace   \n",
       "4      piece_4  Holding My Thoughts in My Heart   \n",
       "..         ...                              ...   \n",
       "195  piece_195                     Maguss Theme   \n",
       "196  piece_196                         Zeppelin   \n",
       "197  piece_197                           JENOVA   \n",
       "198  piece_198        Isle O Hags Cauldron Keep   \n",
       "199  piece_199                 One Winged Angel   \n",
       "\n",
       "                                                  midi  measures  duration  \\\n",
       "0    Final Fantasy_PS1_Final Fantasy VII_Lurking In...        32        63   \n",
       "1     Final Fantasy_PS1_Final Fantasy VII_Continue.mid        25        74   \n",
       "2    Final Fantasy_PS1_Final Fantasy VII_Oppressed ...        40        70   \n",
       "3    The Legend of Zelda_N64_The Legend of Zelda Ma...        60       131   \n",
       "4    Final Fantasy_PS1_Final Fantasy VII_Holding My...        34       116   \n",
       "..                                                 ...       ...       ...   \n",
       "195        Chrono_SNES_Chrono Trigger_Maguss Theme.mid        71       149   \n",
       "196  Indiana Jones_PC_Indiana Jones and the Last Cr...        35        69   \n",
       "197     Final Fantasy_PS1_Final Fantasy VII_JENOVA.mid       100       133   \n",
       "198  Banjo-Kazooie_N64_Banjo-Tooie_Isle O Hags Caul...        62       123   \n",
       "199  Final Fantasy_PS1_Final Fantasy VII_One Winged...       123       238   \n",
       "\n",
       "      arousal   valence  \n",
       "0   -0.032802 -0.203875  \n",
       "1   -0.207000  0.151760  \n",
       "2    0.058008 -0.138137  \n",
       "3    0.189081  0.446306  \n",
       "4   -0.211324  0.240137  \n",
       "..        ...       ...  \n",
       "195  0.147208 -0.019774  \n",
       "196  0.097327  0.300337  \n",
       "197  0.376296  0.012214  \n",
       "198 -0.012431 -0.094902  \n",
       "199  0.342840 -0.205265  \n",
       "\n",
       "[200 rows x 7 columns]"
      ]
     },
     "execution_count": 11,
     "metadata": {},
     "output_type": "execute_result"
    }
   ],
   "source": [
    "data"
   ]
  },
  {
   "cell_type": "markdown",
   "metadata": {},
   "source": [
    "## Append emotion labels"
   ]
  },
  {
   "cell_type": "markdown",
   "metadata": {},
   "source": [
    "![Emotions - Russell circumplex](images/emotions_circumplex.png)"
   ]
  },
  {
   "cell_type": "code",
   "execution_count": 12,
   "metadata": {},
   "outputs": [],
   "source": [
    "happy_indexes = (data.arousal >= 0) & (data.valence >= 0)\n",
    "sad_indexes = (data.arousal <= 0) & (data.valence <= 0)\n",
    "relaxed_indexes = (data.valence > 0) & (data.arousal < 0)\n",
    "distress_indexes = (data.arousal > 0) & (data.valence < 0)"
   ]
  },
  {
   "cell_type": "markdown",
   "source": [],
   "metadata": {
    "collapsed": false
   }
  },
  {
   "cell_type": "code",
   "execution_count": 13,
   "metadata": {},
   "outputs": [],
   "source": [
    "data['emotion'] = 'something'\n",
    "data.loc[happy_indexes, 'emotion'] = 'joy'\n",
    "data.loc[sad_indexes, 'emotion'] = 'sad'\n",
    "data.loc[relaxed_indexes, 'emotion'] = 'relaxed'\n",
    "data.loc[distress_indexes, 'emotion'] = 'distress'"
   ]
  },
  {
   "cell_type": "code",
   "execution_count": null,
   "outputs": [],
   "source": [
    "# mudar labels para 1, 2, 3, 4"
   ],
   "metadata": {
    "collapsed": false
   }
  },
  {
   "cell_type": "code",
   "execution_count": 14,
   "metadata": {},
   "outputs": [
    {
     "data": {
      "text/plain": [
       "array(['sad', 'relaxed', 'distress', 'joy'], dtype=object)"
      ]
     },
     "execution_count": 14,
     "metadata": {},
     "output_type": "execute_result"
    }
   ],
   "source": [
    "data.emotion.unique()"
   ]
  },
  {
   "cell_type": "code",
   "execution_count": 15,
   "metadata": {},
   "outputs": [],
   "source": [
    "data.to_csv('../dataset/dataset.csv', index=False)"
   ]
  }
 ],
 "metadata": {
  "kernelspec": {
   "display_name": "Python 3.10.4 ('hcai')",
   "language": "python",
   "name": "python3"
  },
  "language_info": {
   "codemirror_mode": {
    "name": "ipython",
    "version": 3
   },
   "file_extension": ".py",
   "mimetype": "text/x-python",
   "name": "python",
   "nbconvert_exporter": "python",
   "pygments_lexer": "ipython3",
   "version": "3.10.4"
  },
  "orig_nbformat": 4,
  "vscode": {
   "interpreter": {
    "hash": "57acc33659ea7b32e4b212a1657291a66887666389122a37ee869a914addb1b5"
   }
  }
 },
 "nbformat": 4,
 "nbformat_minor": 2
}
